{
 "cells": [
  {
   "cell_type": "markdown",
   "metadata": {},
   "source": [
    "### 线性回归从零开始\n",
    "生成一个包含1000个样本的数据集， 每个样本包含从标准正态分布中采样的2个特征。 合成数据集是一个矩阵， $\\mathbf{X}\\in \\mathbb{R}^{1000 \\times 2}$\n",
    "使用线性模型参数 $\\mathbf{w} = [2, -3.4]^\\top$ 和噪声项e生成数据集及其标签 $\\mathbf{y}= \\mathbf{X} \\mathbf{w} + b + \\mathbf\\epsilon.$\n"
   ]
  },
  {
   "cell_type": "code",
   "execution_count": 2,
   "metadata": {},
   "outputs": [],
   "source": [
    "import torch"
   ]
  },
  {
   "cell_type": "code",
   "execution_count": 4,
   "metadata": {},
   "outputs": [
    {
     "name": "stdout",
     "output_type": "stream",
     "text": [
      "torch.Size([1000, 2]), torch.Size([1000, 1])\n",
      "features: tensor([-0.8154, -1.3041]) \n",
      "label: tensor([7.0020])\n"
     ]
    }
   ],
   "source": [
    "def synthetic_data(w, b, num_examples):  #@save\n",
    "    \"\"\"生成y=Xw+b+噪声\"\"\"\n",
    "    X = torch.normal(mean=0, std=1, size=(num_examples, len(w))) # 从标准正态分步采样1000,2的矩阵\n",
    "    y = torch.matmul(X, w) + b      # 矩阵相乘。 y = X * w + b\n",
    "    y += torch.normal(0, 0.01, y.shape) # 模拟误差\n",
    "    return X, y.reshape((-1, 1))\n",
    "\n",
    "true_w = torch.tensor([2, -3.4])\n",
    "true_b = 4.2\n",
    "features, labels = synthetic_data(true_w, true_b, 1000)\n",
    "print(f'{features.shape}, {labels.shape}')\n",
    "print('features:', features[0],'\\nlabel:', labels[0])"
   ]
  }
 ],
 "metadata": {
  "kernelspec": {
   "display_name": "yan",
   "language": "python",
   "name": "python3"
  },
  "language_info": {
   "codemirror_mode": {
    "name": "ipython",
    "version": 3
   },
   "file_extension": ".py",
   "mimetype": "text/x-python",
   "name": "python",
   "nbconvert_exporter": "python",
   "pygments_lexer": "ipython3",
   "version": "3.11.5"
  }
 },
 "nbformat": 4,
 "nbformat_minor": 2
}
